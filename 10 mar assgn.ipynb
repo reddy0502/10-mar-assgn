{
 "cells": [
  {
   "cell_type": "markdown",
   "id": "b2f11d8d-e71d-48eb-b785-8f89a4a2041b",
   "metadata": {},
   "source": [
    "1ans:\n",
    "\n",
    "Estimation statistics refers to the process of using sample data to make inferences or predictions about a population parameter. A parameter is a numerical summary that describes some characteristic of a population, such as the mean or standard deviation.\n",
    "\n",
    "Point estimation involves using a single value, known as a point estimate, to approximate the population parameter. A point estimate is calculated from sample data and is used as an estimate of the true value of the parameter.\n",
    "\n",
    "Interval estimation involves using a range of values, known as a confidence interval, to estimate the population parameter. A confidence interval is a range of values within which we expect the true value of the parameter to lie with a certain degree of confidence. "
   ]
  },
  {
   "cell_type": "code",
   "execution_count": null,
   "id": "f69b451f-fb52-49a6-b2fe-ac2519573d83",
   "metadata": {},
   "outputs": [],
   "source": [
    "2ans:\n",
    "    def estimate_pop_mean(sample_mean, sample_std, sample_size):\n",
    "    import math\n",
    "    std_error = sample_std / math.sqrt(sample_size)\n",
    "    lower_bound = sample_mean - 1.96 * std_error\n",
    "    upper_bound = sample_mean + 1.96 * std_error\n",
    "    return (lower_bound, upper_bound)\n"
   ]
  },
  {
   "cell_type": "markdown",
   "id": "495a92fb-2ca2-4c2d-be1d-2f2b386309b1",
   "metadata": {},
   "source": [
    "3ans:\n",
    "\n",
    "    Hypothesis testing is a statistical method used to make decisions about a population based on sample data. It involves formulating two hypotheses, the null hypothesis (H0) and the alternative hypothesis (Ha), and then testing these hypotheses using statistical methods.\n",
    "    \n",
    " Hypothesis testing is used in research to make inferences about population parameters based on sample data. It is important because it provides a systematic approach to evaluating the evidence for or against a particular claim or hypothesis. By testing hypotheses, researchers can make informed decisions based on evidence rather than relying on intuition or subjective judgment.\n",
    " "
   ]
  },
  {
   "cell_type": "code",
   "execution_count": null,
   "id": "fac1b2fd-0b7a-4527-bd7a-1aa71bd39cb5",
   "metadata": {},
   "outputs": [],
   "source": [
    "5ans:\n",
    "\n",
    "import numpy as np\n",
    "from scipy.stats import ttest_ind\n",
    "\n",
    "\n",
    "male_weights = np.array([180, 190, 175, 200, 185, 195, 190, 185, 205, 195])\n",
    "female_weights = np.array([140, 150, 135, 160, 145, 155, 150, 145, 165, 155])\n",
    "\n",
    "\n",
    "male_mean = np.mean(male_weights)\n",
    "female_mean = np.mean(female_weights)\n",
    "\n",
    "\n",
    "male_std = np.std(male_weights, ddof=1)\n",
    "female_std = np.std(female_weights, ddof=1)\n",
    "\n",
    "\n",
    "t_stat, p_val = ttest_ind(male_weights, female_weights, equal_var=False)\n",
    "\n",
    "\n",
    "print(\"Male mean weight:\", male_mean)\n",
    "print(\"Female mean weight:\", female_mean)\n",
    "print(\"Male standard deviation:\", male_std)\n",
    "print(\"Female standard deviation:\", female_std)\n",
    "print(\"t-statistic:\", t_stat)\n",
    "print(\"p-value:\", p_val)\n"
   ]
  },
  {
   "cell_type": "markdown",
   "id": "7807f42e-568e-40a2-8e56-94fa78c871cc",
   "metadata": {},
   "source": [
    "6ans:\n",
    "\n",
    "The null hypothesis represents the status quo, while the alternative hypothesis represents a deviation from the status quo. Here are some examples of null and alternative hypotheses:\n",
    "\n",
    "Example for a one-sample t-test:\n",
    "Null Hypothesis: The population mean is equal to a specific value.\n",
    "\n",
    "Alternative Hypothesis: The population mean is different from the specific value.\n",
    "\n",
    "For instance, a null hypothesis can be \"The average height of men is 175 cm.\" while the alternative hypothesis can be \"The average height of men is not 175 cm.\"\n",
    "\n",
    "Example for a two-sample t-test:\n",
    "Null Hypothesis: The population means of two groups are equal.\n",
    "Alternative Hypothesis: The population means of two groups are different.\n",
    "\n",
    "For instance, a null hypothesis can be \"The average salary of male and female employees is equal.\" while the alternative hypothesis can be \"The average salary of male and female employees is different.\"\n",
    "\n",
    "Example for a chi-square test:\n",
    "Null Hypothesis: The two categorical variables are independent.\n",
    "\n",
    "Alternative Hypothesis: The two categorical variables are dependent.\n",
    "\n",
    "For instance, a null hypothesis can be \"There is no relationship between the type of phone and the preference of mobile applications.\" while the alternative hypothesis can be \"There is a relationship between the type of phone and the preference of mobile applications.\""
   ]
  },
  {
   "cell_type": "markdown",
   "id": "165c6c87-f5d7-4790-b13a-0a1d123e7d36",
   "metadata": {},
   "source": [
    "7ans:\n",
    "    \n",
    " Here are the general steps involved in hypothesis testing:\n",
    "\n",
    "Formulate the research question and the null and alternative hypotheses \n",
    "\n",
    "Select the appropriate test and significance level\n",
    "\n",
    "Collect and analyze the data\n",
    "\n",
    "Interpret the results\n",
    "\n",
    "Draw conclusions and make recommendations:\n",
    "\n",
    "Report the results"
   ]
  },
  {
   "cell_type": "markdown",
   "id": "c5499f64-ff25-4622-aec2-bdc2afbcd81f",
   "metadata": {},
   "source": [
    "8ans:\n",
    "\n",
    "In statistics, the p-value is a probability value that measures the strength of evidence against the null hypothesis. The null hypothesis is a statement that assumes no difference or relationship between variables, while the alternative hypothesis is a statement that suggests there is a significant difference or relationship between variables.\n",
    "\n",
    "In hypothesis testing, the p-value is used to determine the significance of the results. If the p-value is less than or equal to the significance level, typically 0.05, then the null hypothesis is rejected in favor of the alternative hypothesis. This means that the results are statistically significant, and there is enough evidence to conclude that there is a significant difference or relationship between variables."
   ]
  },
  {
   "cell_type": "code",
   "execution_count": null,
   "id": "e9ffb634-f551-4313-9ffc-92bc5d1fd9f5",
   "metadata": {},
   "outputs": [],
   "source": [
    "9ans:\n",
    "\n",
    "import numpy as np\n",
    "import matplotlib.pyplot as plt\n",
    "from scipy.stats import t\n",
    "\n",
    "\n",
    "df = 10\n",
    "\n",
    "\n",
    "x = np.linspace(-4, 4, 1000)\n",
    "\n",
    "\n",
    "y = t.pdf(x, df)\n",
    "\n",
    "\n",
    "fig, ax = plt.subplots()\n",
    "\n",
    "# Plot the PDF\n",
    "ax.plot(x, y)\n",
    "\n",
    "# Add title and axis labels\n",
    "ax.set_title(\"Student's t-distribution (df=10)\")\n",
    "ax.set_xlabel(\"x\")\n",
    "ax.set_ylabel(\"PDF\")\n",
    "\n",
    "# Display the plot\n",
    "plt.show()\n"
   ]
  },
  {
   "cell_type": "code",
   "execution_count": null,
   "id": "e8620d89-1c7c-4bb9-865a-34f26c2bfee2",
   "metadata": {},
   "outputs": [],
   "source": [
    "10 ans:\n",
    "    import numpy as np\n",
    "from scipy.stats import ttest_ind\n",
    "\n",
    "# Define two random samples of equal size\n",
    "sample1 = np.random.normal(10, 2, 50)\n",
    "sample2 = np.random.normal(12, 2, 50)\n",
    "\n",
    "# Calculate the t-statistic and p-value\n",
    "t_stat, p_val = ttest_ind(sample1, sample2)\n",
    "\n",
    "# Define the significance level\n",
    "alpha = 0.05\n",
    "\n",
    "# Check if the p-value is less than the significance level\n",
    "if p_val < alpha:\n",
    "    print(\"Reject null hypothesis - there is a significant difference between the population means.\")\n",
    "else:\n",
    "    print(\"Fail to reject null hypothesis - there is no significant difference between the population means.\")\n"
   ]
  },
  {
   "cell_type": "markdown",
   "id": "fd2ed15f-a1de-4355-9ce4-05da6eb67ec8",
   "metadata": {},
   "source": [
    "11ans:\n",
    "    \n",
    " The Student's t-distribution, often simply called the t-distribution, is a probability distribution that arises when estimating the mean of a normally distributed population in situations where the sample size is small or when the population standard deviation is unknown.\n",
    " \n",
    " The t-distribution is used in hypothesis testing and confidence interval estimation when the sample size is small and/or the population standard deviation is unknown. In particular, it is commonly used to test hypotheses about the population mean when the sample size is less than 30, or when the population standard deviation is unknown.\n",
    " "
   ]
  },
  {
   "cell_type": "markdown",
   "id": "16679886-7e9c-4e17-868c-0005702f055c",
   "metadata": {},
   "source": [
    "12ans:\n",
    "    The t-statistic is a test statistic that is used in hypothesis testing to determine whether the difference between a sample mean and a population mean is statistically significant. It is also used in calculating confidence intervals for the population mean.\n",
    "\n",
    "The formula for the t-statistic is:\n",
    "\n",
    "t = (x̄ - μ) / (s / √n)\n",
    "\n",
    "    "
   ]
  },
  {
   "cell_type": "markdown",
   "id": "ea32d554-8ce3-415f-8a1f-af32f24445ab",
   "metadata": {},
   "source": [
    "13ans:\n",
    "    \n",
    " To estimate the population mean revenue with a 95% confidence interval, we can use the formula:\n",
    "\n",
    "CI = x̄ ± t*(s/√n)\n",
    "\n",
    "We can find the critical value by looking up the t-distribution with 49 degrees of freedom (n-1) and a 95% confidence level, using a t-table or calculator. For a two-tailed test, the critical value is 2.009.\n",
    "\n",
    "Plugging in the values we have:\n",
    "\n",
    "CI = $500 ± 2.009 * ($50 / √50)\n",
    "\n",
    "Simplifying:\n",
    "\n",
    "CI = $500 ± $14.20\n"
   ]
  },
  {
   "cell_type": "markdown",
   "id": "0e574e47-6037-4752-bd04-ed4688a7f033",
   "metadata": {},
   "source": [
    "14ans:\n",
    "\n",
    "The test statistic for the one-sample t-test is:\n",
    "\n",
    "t = (x̄ - μ) / (s/√n)\n",
    "\n",
    "The degrees of freedom for the t-test is n-1 = 99.\n",
    "\n",
    "Plugging in the values we have:\n",
    "\n",
    "t = (8 - 10) / (3/√100) = -2.82\n",
    "\n",
    "Looking up the critical value for a one-tailed t-test with 99 degrees of freedom and a 0.05 significance level, we find it to be -1.660.\n"
   ]
  },
  {
   "cell_type": "markdown",
   "id": "27ec328a-72ad-4be9-8f63-470ae3a1252c",
   "metadata": {},
   "source": [
    "15ans:\n",
    "\n",
    "The test statistic for the one-sample t-test is:\n",
    "\n",
    "t = (x̄ - μ) / (s/√n)\n",
    "The degrees of freedom for the t-test is n-1 = 24.\n",
    "\n",
    "Plugging in the values we have:\n",
    "\n",
    "t = (4.8 - 5) / (0.5/√25) = -2\n",
    "\n",
    "Looking up the critical value for a one-tailed t-test with 24 degrees of freedom and a 0.01 significance level, we find it to be -2.492.\n",
    "\n",
    "Since the calculated t-value (-2) is greater than the critical value (-2.492), we reject the null hypothesis that the true mean weight is equal to 5 pounds. Therefore, we have evidence to support the alternative hypothesis that the true mean weight of the products is less than 5 pounds."
   ]
  },
  {
   "cell_type": "markdown",
   "id": "eb6e6a8f-d8c3-48f9-9828-2fbef32ffb21",
   "metadata": {},
   "source": [
    "16ans:\n",
    "\n",
    "The test statistic for the two-sample t-test is:\n",
    "\n",
    "t = (x̄1 - x̄2) / sqrt[(s1^2/n1) + (s2^2/n2)]\n",
    "The degrees of freedom for the t-test is:\n",
    "\n",
    "df = [(s1^2/n1) + (s2^2/n2)]^2 / [(s1^2/n1)^2 / (n1-1) + (s2^2/n2)^2 / (n2-1)]\n",
    "\n",
    "Plugging in the values we have:\n",
    "\n",
    "t = (80 - 75) / sqrt[(10^2/30) + (8^2/40)] = 2.08\n",
    "\n",
    "Looking up the critical value for a two-tailed t-test with 68 degrees of freedom (using a conservative estimate of degrees of freedom), and a 0.01 significance level, we find it to be approximately ±2.65.\n",
    "\n",
    "Since the calculated t-value (2.08) is smaller than the critical value of 2.65, we fail to reject the null hypothesis that the population means for the two groups are equal. Therefore, we do not have sufficient evidence to support the alternative hypothesis that the population means for the two groups are different."
   ]
  },
  {
   "cell_type": "markdown",
   "id": "8dd674d9-509e-48f8-bbba-e223edeb0949",
   "metadata": {},
   "source": [
    "17ans:\n",
    "\n",
    "    The formula for calculating the confidence interval is:\n",
    "\n",
    "CI = x̄ ± t*(s/√n)\n",
    "\n",
    "The critical value for a t-distribution with 49 degrees of freedom and a 99% confidence level is approximately 2.68 (found using a t-distribution table or calculator).\n",
    "\n",
    "Plugging in the values we have:\n",
    "\n",
    "CI = 4 ± 2.68*(1.5/√50) = [3.53, 4.47]\n",
    "\n",
    "Therefore, we can say with 99% confidence that the population mean number of ads watched by viewers during a TV program is between 3.53 and 4.47.\n",
    "\n",
    "\n",
    "\n",
    "\n"
   ]
  },
  {
   "cell_type": "code",
   "execution_count": null,
   "id": "048ee282-b0f7-4db4-9782-c6fc874cb679",
   "metadata": {},
   "outputs": [],
   "source": []
  }
 ],
 "metadata": {
  "kernelspec": {
   "display_name": "Python 3 (ipykernel)",
   "language": "python",
   "name": "python3"
  },
  "language_info": {
   "codemirror_mode": {
    "name": "ipython",
    "version": 3
   },
   "file_extension": ".py",
   "mimetype": "text/x-python",
   "name": "python",
   "nbconvert_exporter": "python",
   "pygments_lexer": "ipython3",
   "version": "3.10.8"
  }
 },
 "nbformat": 4,
 "nbformat_minor": 5
}
